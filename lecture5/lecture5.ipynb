{
 "cells": [
  {
   "cell_type": "code",
   "execution_count": 16,
   "metadata": {},
   "outputs": [],
   "source": [
    "import pybryt\n",
    "from lecture import pybryt_reference"
   ]
  },
  {
   "cell_type": "markdown",
   "metadata": {},
   "source": [
    "# Introduction to Python\n",
    "\n",
    "# Lecture 5\n",
    "\n",
    "## Introduction\n",
    "\n",
    "As we saw in [lecture 4](..\\lecture4\\lecture4.ipynb), Python classes combine a storing data (attributes) and functions (methods) that process that data. They act as a way to create new data types. In the previous lecture, we learned some of the individual features of classes. In this section we will learn to put multiple features together to implement and improve a class based on the functionality we need it to provide.\n",
    "\n",
    "## Example 1: Quaternions\n",
    "\n",
    "Just as complex numbers extend the set of real numbers into a \"two-dimensional\" space, [quaternions](https://en.wikipedia.org/wiki/Quaternion) extend the concept of \"2D\" complex numbers into a \"four-dimensional\" space. Quaternions are used in computer graphics, control theory, signal processing, and orbital mechanics, and more generally in areas involving applying multiple rotations or scalings using floating point arthimetic. In the realm of science, they are also used in physics to describe the quantum spin of a particle. We are going to briefly describe the mathematical properties of quaternions as numbers and then you will work to implement a class to represent them.\n",
    "\n",
    "### Basic Definition\n",
    "\n",
    "A quarterions is an object (viewed as a single number) consisting four real coefficients, say $a$, $b$, $c$, and $d$, along with rules for addition, mutilplication by a scalar, and multiplication by another quaternion. The rules are as follows:\n",
    "\n",
    "1. Addition: \n",
    "  $$(a, b, c, d) + (e, f, g, h) = (a+e, b+f, c+g, d+h)$$\n",
    "2. Multiplication by a scalar:\n",
    "  $$r(a, b, c, d) = (ra, rb, rc, rd)$$\n",
    "3. Multiplication by another quaternion: \n",
    "  $$(a, b, c, d)(e, f, g, h) = (ae - bf - cg - dh, af + be + ch - dg, ag - bh + ce + df, ah + bg - cf + de)$$\n",
    "These rules are enough to define the quaternions as a number system, as well as a [vector space](https://en.wikipedia.org/wiki/Vector_space) over the real numbers.\n",
    "\n",
    "Just as a complex number can be written in the form $a + bi$ (or in Python in a form like `1+2j`), a quaternion can be written in the form $a + bi + cj + dk$. This means they keep both engineers and mathematicians happy by having `i` & `j` both denote complex components of the number.\n",
    "\n",
    "By the rules of multiplication above we have:\n",
    "$$ i^2 = j^2 = k^2 = ijk = -1, $$\n",
    "$$ ij = k, \\quad jk = i, \\quad ki = j. $$\n",
    "In this sense, we can think of the $i$, $j$ and $k$ as three separate complex dimensions.\n",
    "\n",
    "### Implementing Quaternions\n",
    "\n",
    "This is enough information to start implementing a class to represent quaternions. We'll do this in a single cell immediately below. As you work through this section, we'll add more features to the class, and need to re-run the cell to update the class definition. If anything doesn't work or your results get confusing, try restarting the Python kernel and re-running that cell to see it it cleans up the problem.\n",
    "\n",
    "#### The Class Definition cell"
   ]
  },
  {
   "cell_type": "code",
   "execution_count": 17,
   "metadata": {},
   "outputs": [],
   "source": [
    "# Remember to re-run this cell after you've modified the class below\n",
    "# Carry on reading to see what to implement.\n",
    "import numpy as np\n",
    "\n",
    "class Quaternion:\n",
    "    \"\"\"Initializes a quaternion with the given values.\n",
    "\n",
    "    The first value is the real part, the rest are the imaginary parts. The imaginary\n",
    "    parts are i, j, and k.  For example, Quaternion(1, 2, 3, 4) represents the\n",
    "    quaternion 1 + 2i + 3j + 4k.\n",
    "\n",
    "    \"\"\"\n",
    "\n",
    "    def __init__(self, *args, **kwargs):\n",
    "        # Although there are no private attributes in Python, by convention, we use an\n",
    "        # underscore to indicate that an attribute is private and should not be accessed\n",
    "        # directly. This is a convention, and it is not enforced by the language.\n",
    "        # self._1 = a\n",
    "        # self._i = b\n",
    "        # self._j = c\n",
    "        # self._k = d\n",
    "        a, b, c, d = (list(args) + [0, 0, 0, 0])[:4]\n",
    "\n",
    "        # keyword overrides (allow a/real, b/i, c/j, d/k)\n",
    "        a = kwargs.get('a', kwargs.get('real', kwargs.get('_1', a)))\n",
    "        b = kwargs.get('b', kwargs.get('i',    kwargs.get('_i', b)))\n",
    "        c = kwargs.get('c', kwargs.get('j',    kwargs.get('_j', c)))\n",
    "        d = kwargs.get('d', kwargs.get('k',    kwargs.get('_k', d)))\n",
    "\n",
    "        self._1, self._i, self._j, self._k = a, b, c, d\n",
    "    \n",
    "    def __str__(self):\n",
    "        \"\"\"Returns the string representation of the quaternion.\"\"\"\n",
    "\n",
    "        # Helper function to format components\n",
    "        def format_component(value, suffix):\n",
    "            return f\" {'+' if value >= 0 else '-'} {abs(value)}{suffix}\"\n",
    "\n",
    "        # Format each component\n",
    "        components = [\n",
    "            f\"{self._1}\",\n",
    "            format_component(self._i, \"i\"),\n",
    "            format_component(self._j, \"j\"),\n",
    "            format_component(self._k, \"k\"),\n",
    "        ]\n",
    "\n",
    "        return \"\".join(components)\n",
    "\n",
    "    def __add__(self, other):\n",
    "        x = self._1 + other._1 \n",
    "        a  = self._i + other._i  \n",
    "        b = self._j + other._j  \n",
    "        c = self._k + other._k\n",
    "        return Quaternion(x, a, b, c)\n",
    "\n",
    "    def __eq__(self, other):\n",
    "        x = self._1 == other._1 \n",
    "        a  = self._i == other._i  \n",
    "        b = self._j == other._j  \n",
    "        c = self._k == other._k\n",
    "\n",
    "        check = a and b and c and x\n",
    "        if check:\n",
    "            return True\n",
    "        else:\n",
    "            return False\n",
    "\n",
    "    def __sub__(self, other):\n",
    "        x = self._1 - other._1 \n",
    "        a  = self._i - other._i  \n",
    "        b = self._j - other._j  \n",
    "        c = self._k - other._k\n",
    "        return Quaternion(x, a, b, c)\n",
    "\n",
    "    def __mul__(self, other):\n",
    "        if not isinstance(other, Quaternion):\n",
    "            other = Quaternion(other, 0, 0, 0)\n",
    "            \n",
    "        x = (self._1 * other._1) - (self._i * other._i) - (self._j * other._j) - (self._k * other._k)\n",
    "        a = (self._1 * other._i) + (self._i * other._1) + (self._j * other._k) - (self._k * other._j)\n",
    "        b = (self._1 * other._j) - (self._i * other._k) + (self._j * other._1) + (self._k * other._i)\n",
    "        c = (self._1 * other._k) + (self._i * other._j) - (self._j * other._i) + (self._k * other._1)\n",
    "        return Quaternion(x, a, b, c)\n",
    "\n",
    "    def __rmul__(self, other):\n",
    "        if not isinstance(other, Quaternion):\n",
    "            other = Quaternion(other, 0, 0, 0)\n",
    "\n",
    "        result = other.__mul__(self)\n",
    "        return result\n",
    "\n",
    "    def conjugate(self):\n",
    "     # method body ending with a return statement\n",
    "        a = self._i * -1\n",
    "        b = self._j * -1\n",
    "        c = self._k * -1\n",
    "        \n",
    "        return Quaternion(self._1, a, b, c)\n",
    "\n",
    "    def __abs__(self):\n",
    "     # method body ending with a return statement\n",
    "        value =  np.sqrt(self._1 ** 2 + self._i ** 2 + self._j ** 2 + self._k ** 2)\n",
    "        return value\n",
    "        \n",
    "    def inverse(self):\n",
    "        conjugate = self.conjugate()\n",
    "        length = 1 / (self.__abs__() ** 2)\n",
    "        return conjugate.__mul__(length)\n",
    "\n",
    "    def __repr__(self):\n",
    "        return f\"Quaternion({self._1}, {self._i}, {self._j}, {self._k})\""
   ]
  },
  {
   "cell_type": "markdown",
   "metadata": {},
   "source": [
    "As with most classes, the first thing to do is to implement the initialisation method so that we can create new instances of the class from appropriate information. In this case, we've done this for you, and chosen the names of the attributes to be `_1`, `_i`, `_j`, and `_k`.\n",
    "\n",
    "We've also implemented the `__str__` method, which is called when the object is printed (as well as a few other times). This is a good way to check that the initialisation method is working as expected, and we can use it to test the core class initialisation."
   ]
  },
  {
   "cell_type": "code",
   "execution_count": 18,
   "metadata": {
    "tags": [
     "nbgrader"
    ]
   },
   "outputs": [],
   "source": [
    "assert str(Quaternion(1, 2, 3, 4)) == \"1 + 2i + 3j + 4k\""
   ]
  },
  {
   "cell_type": "markdown",
   "metadata": {},
   "source": [
    "The cell block above will show no output if the class is implemented correctly. If you see a `NameError`, then make sure that you've run the cell defining the `Quaternion` class. If you see an `AssertionError`, then\n",
    "make sure you haven't changed the initialisation or `__str__` method.\n",
    "\n",
    "### Implementing the Addition Method\n",
    "\n",
    "With the code we've already given you, you'll first need to implement the addition and multiplication methods. The addition method name to use the `+` operator is `__add__`, and it takes two arguments. The first argument is always the object itself (and as with the initialisation and `__str__` methods, it is good practice to use `self` to refer to it). The second argument is the other object being added - the Python convention is to call it `other`. This means the method signature is\n",
    "\n",
    "```python\n",
    "   def __add__(self, other):\n",
    "     # method body ending with a return statement\n",
    "```\n",
    "\n",
    "Add this method to the Quaterion class above, and implement the addition rule\n",
    "\n",
    "$$a+b\\mathit{i}+c\\mathit{j}+d\\mathit{k} + e+f\\mathit{i}+g\\mathit{j}+h\\mathit{k} = a+e+(b+f)\\mathit{i}+(c+g)\\mathit{j}+(d+h)\\mathit{k}.$$\n",
    "\n",
    "Once you're done, we can test the method by adding two quaternions together (Remember to re-run the class cell above after you've made changes to the class definition). If you see a `TypeError`, then check you've added the `__add__` method correctly (and rerun the class cell). One common mistake is geting the wrong amount of white space indentation. If you see an `AssertError` then your returned value isn't right."
   ]
  },
  {
   "cell_type": "code",
   "execution_count": 19,
   "metadata": {
    "tags": [
     "nbgrader"
    ]
   },
   "outputs": [],
   "source": [
    "q1 = Quaternion(1, 2, 3, 4)\n",
    "q2 = Quaternion(5, 6, 7, 8)\n",
    "\n",
    "assert str(q1 + q2) == \"6 + 8i + 10j + 12k\", \"Got: \" + str(q1 + q2)"
   ]
  },
  {
   "cell_type": "markdown",
   "metadata": {},
   "source": [
    "### Implementing the Multiplication Method\n",
    "\n",
    "Now, we want to implement multiplication. The method name is `__mul__`, and it takes the same arguments as the addition method. This means that method signature is\n",
    "\n",
    "```python\n",
    "   def __mul__(self, other):\n",
    "     # method body ending with a return statement\n",
    "```\n",
    "\n",
    "Here the method body will need to be a little more complicated, since there are two possible cases:\n",
    "- If `other` is a scalar number, then we need to multiply each component of the quaternion by `other`.\n",
    "- If `other` is another quaternion, then we need to use the multiplication rule above.\n",
    "\n",
    "We can check the type of `other` using the `isinstance` function. This function takes two arguments, the first is the object to check, and the second is the type to check against. It returns `True` if the object is of the given type, and `False` otherwise. For example, `isinstance(3, int)` returns `True`, and `isinstance(3, float)` returns `False`. In this case, we want to check if the `other` is a `Quaternion` object or not, using `isinstance(other, Quaternion)`.\n",
    "\n",
    "The \"quick\" way to implement scalar multiplication is just to code up the multiplication rule for quaternions, and if `other` is not a `Quaternion` object, then convert it into one with the scalar as the first component, i.e. creating `Quaternion(other, 0, 0, 0)`. Alternatively, you can use a set of `if`, `elif` and (if necessary) `else` statements to handle the cases separately. In the first case, your code will look something like\n",
    "\n",
    "```python\n",
    "def __mul__(self, other):\n",
    "   if not isinstance(other, Quaternion):\n",
    "      other = Quaternion(other, 0, 0, 0)\n",
    "  # rest of the method body    \n",
    "```\n",
    "\n",
    "in the second case, your code will look something like\n",
    "\n",
    "```python\n",
    "def __mul__(self, other):\n",
    "   if isinstance(other, Quaternion):\n",
    "      # result = multiplication rule for quaternion\n",
    "      return result\n",
    "   else:\n",
    "      # multiplication rule for scalar\n",
    "      return result\n",
    "```\n",
    " \n",
    "Try to implement all this, and then run our test cases below."
   ]
  },
  {
   "cell_type": "code",
   "execution_count": 20,
   "metadata": {
    "tags": [
     "nbgrader"
    ]
   },
   "outputs": [],
   "source": [
    "q1 = Quaternion(1, 2, 3, 4)\n",
    "q2 = Quaternion(5, 6, 7, 8)\n",
    "\n",
    "assert str(q1 * q2) == \"-60 + 12i + 30j + 24k\", \"Got: \" + str(q1 * q2)\n",
    "assert str(q2 * q1) == \"-60 + 20i + 14j + 32k\", \"Got: \" + str(q2 * q1)\n",
    "assert str(q1 * 3) == \"3 + 6i + 9j + 12k\", \"Got: \" + str(q1 * 3)"
   ]
  },
  {
   "cell_type": "markdown",
   "metadata": {},
   "source": [
    "### Additional Methods\n",
    "\n",
    "We've now implemented a method to multiply \"from the left\", i.e. solving `q * other`, but for the purposes of scalar multiplication, we also need to implement a method to multiply \"from the right\", i.e. solving `other * q`.\n",
    "\n",
    "The appropriate special method (also called a \"magic method\" or \"dunder method\") name is `__rmul__`, and it takes the same arguments as the multiplication method, except this time \"other\" is the object on the left. This means that method signature is\n",
    "\n",
    "```python\n",
    "   def __rmul__(self, other):\n",
    "     # method body ending with a return statement\n",
    "```\n",
    "\n",
    "Note that we can't just call `return self.__mul__(other)` here, since for quaternions, multiplication is not commutative (i.e. `q1 * q2` is not equal to `q2 * q2` for general quaternions `q1` and `q2`). Again there are several ways to solve this, but the one involving least code is to make `other` into a `Quaternion` object if it isn't already, and then call its `__mul__` method on self (either explicity as `other.__mul__(self)` or implicitly through `other*self`).\n",
    "\n"
   ]
  },
  {
   "cell_type": "code",
   "execution_count": 21,
   "metadata": {
    "tags": [
     "nbgrader"
    ]
   },
   "outputs": [],
   "source": [
    "q1 = Quaternion(1, 2, 3, 4)\n",
    "\n",
    "assert str(3 * q1) == \"3 + 6i + 9j + 12k\", \"Got: \" + str(3 * q1)"
   ]
  },
  {
   "cell_type": "markdown",
   "metadata": {},
   "source": [
    "We've now implemented the core arthmetic operations for quaternions, and can move on to more advanced features. Let's start by defining the conjugate of a quaternion. Just as the conjugate of a complex number $z= a+b\\mathit{i}$ is $\\bar{z} = a - b\\mathit{i}$,  the conjugate of a quaternion $q = a + b\\mathit{i} + c\\mathit{j} + d\\mathit{k}$ is defined as $\\bar{q} = a - b\\mathit{i} - c\\mathit{j} - \\mathit{k}$. \n",
    "\n",
    "We can implement this as a method `conjugate` that takes no additional arguments, and returns a new quaternion object with the \"imaginary\" parts negated. The method signature should be\n",
    "\n",
    "```python\n",
    "   def conjugate(self):\n",
    "     # method body ending with a return statement\n",
    "```\n",
    "\n",
    "Note that $q\\bar{q} := \\|q\\|^2 = a^2 + b^2 + c^2 + d^2$, which is a positive real number. We can define the inverse or reciprocal of a quaternion as $\\frac{\\bar{q}}{\\|q\\|^2}$, and implement this as a method `inverse`.\n",
    "```python\n",
    "   def inverse(self):\n",
    "     # method body ending with a return statement\n",
    "```\n",
    "It's not technically correct to call this division, due to the non-commutative nature of quaternion multiplication. This means that there are two \"inverse functions\" for multiplication, one which solves $xa = b$ for $x$ and one which solves $ax = b$. Using the notation $a^{-1}$ for the inverse above, the inverse from the right is $ba^{-1}$ and the inverse is $a^{-1}b$.\n",
    "\n",
    "Instead of computing the magnitude $|q|$ inside the `inverse` method, implement the special `__abs__` method. This method will be called when built in `abs` function is called on a Quaternion object. Its signature is:\n",
    "```python\n",
    "   def __abs____(self):\n",
    "     # method body ending with a return statement\n",
    "```\n",
    "\n",
    "Try to implement the `conjugate` and `inverse` methods in your `Quaternion` class above, and then run the test cases below."
   ]
  },
  {
   "cell_type": "code",
   "execution_count": 22,
   "metadata": {
    "tags": [
     "nbgrader"
    ]
   },
   "outputs": [],
   "source": [
    "q1 = Quaternion(1, 1, 1, 1)\n",
    "\n",
    "assert str(q1.conjugate()) == \"1 - 1i - 1j - 1k\", \"Got: \" + str(q1.conjugate())\n",
    "assert str(abs(q1)) == \"2.0\", \"Got: \" + str(abs(q1))\n",
    "assert str(q1.inverse()) == \"0.25 - 0.25i - 0.25j - 0.25k\", \"Got: \" + str(q1.inverse())"
   ]
  },
  {
   "cell_type": "markdown",
   "metadata": {},
   "source": [
    "### Refactoring the class (optional)\n",
    "\n",
    "We've now implemented all the basic functionality of quaternions. However, the class is not particularly user-friendly. Here is a list of some things you could improve:\n",
    "\n",
    "- The `__init__` method is currently not very user-friendly. It would be nice if we could create a quaternion in a few extra ways:\n",
    "  - Let `Quaternion(1) == Quaternion(1, 0, 0, 0)`.\n",
    "  - Let `Quaternion(1+2j) == Quaternion(1, 2, 0, 0)`.\n",
    "  - Let `Quaternion([1, 2, 3, 4]) == Quaternion(1, 2, 3, 4)`.\n",
    "  \n",
    "This can be done in a number of ways. One lower effort solution is to use the `*args` and/or `**kwargs` syntax to allow for a variable number of arguments and keyword arguments. "
   ]
  },
  {
   "cell_type": "code",
   "execution_count": 23,
   "metadata": {},
   "outputs": [
    {
     "name": "stdout",
     "output_type": "stream",
     "text": [
      "(1, 2) {}\n",
      "(1, 2, 3, 4, 5) {}\n",
      "(1, 2, 3, 4, 5) {'a': 6, 'b': 7, 'c': 8}\n"
     ]
    }
   ],
   "source": [
    "def function_with_var_args(*args, **kwargs):\n",
    "    print(args, kwargs)\n",
    "\n",
    "\n",
    "function_with_var_args(1, 2)\n",
    "function_with_var_args(1, 2, 3, 4, 5)\n",
    "function_with_var_args(1, 2, 3, 4, 5, a=6, b=7, c=8)"
   ]
  },
  {
   "cell_type": "markdown",
   "metadata": {},
   "source": [
    "Another things we can implement are:\n",
    "\n",
    "- We have implemented the `__str__` method, but not the `__repr__` method. The `__repr__` method is called when the object is printed in a list or dictionary, and should return a string that can be used to recreate the object. For example, `repr(Quaternion(1, 2, 3, 4))` should return the string `\"Quaternion(1, 2, 3, 4)\"`. If we copy/paste the output of `__repr__`, we should get the same object.\n",
    "- We have implemented the `__add__`, `__mul__` and  `__rmul__`, methods, but not the `__sub__`, `__eq__` methods (or a few others).\n"
   ]
  },
  {
   "cell_type": "code",
   "execution_count": 24,
   "metadata": {
    "tags": [
     "nbgrader"
    ]
   },
   "outputs": [],
   "source": [
    "assert repr(Quaternion(1, -2, 3, 4)) == \"Quaternion(1, -2, 3, 4)\"\n",
    "\n",
    "assert Quaternion(1) == Quaternion(1, 0, 0, 0)\n",
    "assert Quaternion(1, 2) == Quaternion(1, 2, 0, 0)\n",
    "assert Quaternion(b=2) == Quaternion(0, 2, 0, 0)\n",
    "\n",
    "assert Quaternion(1, 2, 3, 4) - Quaternion(5, 6, 7, 8) == Quaternion(-4, -4, -4, -4)"
   ]
  },
  {
   "cell_type": "code",
   "execution_count": 25,
   "metadata": {
    "tags": [
     "pybryt"
    ]
   },
   "outputs": [
    {
     "name": "stdout",
     "output_type": "stream",
     "text": [
      "REFERENCE: exercise-5_1\n",
      "SATISFIED: True\n",
      "MESSAGES:\n",
      "  - SUCCESS: Your repr method is correctly implemented. Well done!\n",
      "  - SUCCESS: Great! Your str method is correctly implemented.\n",
      "  - SUCCESS: Your __add__ method is correctly implemented.\n",
      "  - SUCCESS: Your __sub__ method is correctly implemented.\n",
      "  - SUCCESS: Your implementation of multiplication with a scalar is correct.\n",
      "  - SUCCESS: Your __mul__ method is correctly implemented.\n",
      "  - SUCCESS: Your __abs__ method is correctly implemented.\n",
      "  - SUCCESS: The conjugate of a quaternion is correct.\n"
     ]
    }
   ],
   "source": [
    "with pybryt.check(pybryt_reference(5, 1)):\n",
    "    q1 = Quaternion(1, -2, 3, -4)\n",
    "    q2 = Quaternion(15, 2, 0, -1)\n",
    "\n",
    "    repr(q1), str(q1)\n",
    "    repr(q1 + q2)\n",
    "    repr(q2 - q1)\n",
    "    repr(5 * q1)\n",
    "    repr(q1 * q2)\n",
    "    abs(q1)\n",
    "    repr(q1.conjugate())"
   ]
  },
  {
   "cell_type": "markdown",
   "metadata": {},
   "source": [
    "## Example 2: Building Triangles\n",
    "\n",
    "### Problem Statement\n",
    "\n",
    "The second example we will consider is building a collection of classes to represent the information present in triangles. We've defined a class for points in two dimensions. You'll then use this to define a class for line segments (defined by two points), and then a class for triangles (defined by three points). We'll then add methods to calculate the area and perimeter of the triangle, and the length of the line segment.\n",
    "\n",
    "### The Point Class Defintion\n",
    "\n",
    " We'll define a class to represent a point in 2D space. You will then need to implement a line segment (to represent an edge for a triangle), and finally a triangle. We will add appropriate methods to each class to calculate the area and perimeter of a triangle and the length of a line segment."
   ]
  },
  {
   "cell_type": "code",
   "execution_count": 26,
   "metadata": {},
   "outputs": [],
   "source": [
    "from dataclasses import dataclass\n",
    "\n",
    "\n",
    "@dataclass\n",
    "class Point:\n",
    "    x: float\n",
    "    y: float"
   ]
  },
  {
   "cell_type": "markdown",
   "metadata": {},
   "source": [
    "Here we've used the `dataclass` decorator from the `dataclasses` module to define the class. This is a more concise way to define a class, and is particularly useful when the class is just a container for data.\n",
    "\n",
    "The `dataclass` decorator automatically adds an `__init__` method, and `__repr__` method, and `__eq__` method, and a few other things. The `__init__` method takes the same arguments as the class, and the `__repr__` method returns a string that can be used to recreate the object. The `__eq__` method checks if two objects are equal. "
   ]
  },
  {
   "cell_type": "code",
   "execution_count": 27,
   "metadata": {},
   "outputs": [
    {
     "name": "stdout",
     "output_type": "stream",
     "text": [
      "Point(x=1.0, y=2.0) Point(x=2.5, y=4.0)\n",
      "False\n",
      "True\n"
     ]
    }
   ],
   "source": [
    "# Examples of usage\n",
    "p1 = Point(1.0, 2.0)\n",
    "p2 = Point(x=2.5, y=4.0)\n",
    "\n",
    "print(p1, p2)\n",
    "print(p1 == p2)\n",
    "print(p1 == Point(1.0, 2.0))"
   ]
  },
  {
   "cell_type": "markdown",
   "metadata": {},
   "source": [
    "### The LineSegment Class Implementation\n",
    "\n",
    "Given the `Point` class definition above, we can now implement a `LineSegment` class which takes two `Point` objects as arguments to its `__init__` method. The `__init__` method should store these two points as attributes of the object. We'll also want a `length` method to calculate the length of the line segment."
   ]
  },
  {
   "cell_type": "code",
   "execution_count": 30,
   "metadata": {},
   "outputs": [],
   "source": [
    "import math\n",
    "\n",
    "class LineSegment:\n",
    "    def __init__(self, start: Point, end: Point):\n",
    "        # Write appropriate code here to store the start and end points\n",
    "        self.start = start\n",
    "        self.end = end\n",
    "\n",
    "    def __repr__(self):\n",
    "        return f\"LineSegment({self.start}, {self.end})\"\n",
    "\n",
    "    def length(self) -> float:\n",
    "        # Write appropriate code here, updating the class to\n",
    "        # return the length of the line segment\n",
    "        length = math.sqrt(((self.end.x - self.start.x) ** 2) + ((self.end.y - self.start.y) ** 2))\n",
    "        return length\n",
    "\n",
    "    def midpoint(self) -> Point:\n",
    "        mid_x = (self.end.x + self.start.x) / 2\n",
    "        mid_y = (self.end.y + self.start.y) / 2\n",
    "\n",
    "        return Point(mid_x, mid_y)\n",
    "\n",
    "    def __float__(self) -> float:\n",
    "        return self.length()\n",
    "    \n",
    "    def intersects(self, other):\n",
    "        # Parametric lines: P + tR and Q + uS\n",
    "        Px, Py = self.start.x, self.start.y\n",
    "        Qx, Qy = other.start.x, other.start.y\n",
    "        Rx, Ry = self.end.x - Px, self.end.y - Py\n",
    "        Sx, Sy = other.end.x - Qx, other.end.y - Qy\n",
    "\n",
    "        # R × S (2D cross / determinant)\n",
    "        den = Rx*Sy - Ry*Sx  \n",
    "        # treat parallel/colinear as no intersection\n",
    "        if den == 0:\n",
    "            return False  \n",
    "\n",
    "        QPx, QPy = Qx - Px, Qy - Py\n",
    "        t = (QPx*Sy - QPy*Sx) / den   # (Q-P) × S / (R × S)\n",
    "        u = (QPx*Ry - QPy*Rx) / den   # (Q-P) × R / (R × S)\n",
    "        \n",
    "        return bool(0.0 <= t <= 1.0 and 0.0 <= u <= 1.0)"
   ]
  },
  {
   "cell_type": "markdown",
   "metadata": {},
   "source": [
    "Here we've used the optional \"type hints\" feature of Python to specify the types of the arguments to the `__init__` method. This is not necessary (nor it is checked), but can be useful for documentation and for catching errors. The type hints are specified in the method signature, and are separated from the argument name by a colon. For example, `p1: Point` specifies that `p1` is a `Point` object. Similarly, `-> float` suggests that the `length` method returns a `float` object. Once again, this is not checked anywhere, and only provides a hint to the user, either in code or through documentation.\n",
    "\n",
    "We'll also need some tests on the class:"
   ]
  },
  {
   "cell_type": "code",
   "execution_count": 31,
   "metadata": {
    "tags": [
     "nbgrader"
    ]
   },
   "outputs": [],
   "source": [
    "from math import isclose\n",
    "\n",
    "p1 = Point(0, 0)\n",
    "p2 = Point(3, 4)\n",
    "\n",
    "assert isclose(LineSegment(p1, p2).length(), 5)"
   ]
  },
  {
   "cell_type": "markdown",
   "metadata": {},
   "source": [
    "#### Extending the LineSegment Class\n",
    "\n",
    "\n",
    "- add a method to the `LineSegment` class called `midpoint()`. It should return a `Point` object representing the midpoint of the line segment.\n",
    "- (more challenging) add a method to the `LineSegment` class called `intersects`. It should take another `LineSegment` object as an argument, and return `True` if the two line segments intersect, and `False` otherwise. You can assume that the line segments are not colinear if you'd like to reduce your workload.\n",
    "  As a hint, you can use the following algorithm to check if two line segments intersect:\n",
    "    - We can write any line segment as a parametric equation, i.e. $\\mathbf{r}(t) = \\mathbf{p}_1 + t(\\mathbf{p}_2 - \\mathbf{p}_1)$, where $\\mathbf{p}_1$ and $\\mathbf{p}_2$ are beginning and end of the line segment, and $t$ is a real number between 0 and 1.\n",
    "    - Two line segments intersect if and only if the parametric equations of the two line segments have a common solution, i.e. there exists $t_1$ and $t_2$ such that $\\mathbf{r}_1(t_1) = \\mathbf{r}_2(t_2)$.\n",
    "    - Substituting the parametric equations into the equation $\\mathbf{r}_1(t_1) = \\mathbf{r}_2(t_2)$, we get a system of 2 linear equations in $t_1$ and $t_2$. If the system has a solution (and the values of $t_1$ and $t_2$ are in the range $0-1$), then the line segments intersect."
   ]
  },
  {
   "cell_type": "code",
   "execution_count": 32,
   "metadata": {
    "tags": [
     "nbgrader"
    ]
   },
   "outputs": [],
   "source": [
    "p1 = Point(-2, -2)\n",
    "p2 = Point(2, 2)\n",
    "\n",
    "assert LineSegment(p1, p2).midpoint() == Point(0, 0)\n",
    "\n",
    "line_segment1 = LineSegment(Point(0, 0), Point(10, 10))\n",
    "line_segment2 = LineSegment(Point(1, 1), Point(11, 11))\n",
    "line_segment3 = LineSegment(Point(10, 0), Point(0, 10))\n",
    "line_segment4 = LineSegment(Point(0, 0), Point(10, 10))\n",
    "\n",
    "assert not line_segment1.intersects(line_segment2)\n",
    "assert line_segment1.intersects(line_segment3)\n",
    "assert line_segment3.intersects(line_segment4)"
   ]
  },
  {
   "cell_type": "code",
   "execution_count": 33,
   "metadata": {
    "tags": [
     "pybryt"
    ]
   },
   "outputs": [
    {
     "name": "stdout",
     "output_type": "stream",
     "text": [
      "REFERENCE: exercise-5_2\n",
      "SATISFIED: False\n",
      "MESSAGES:\n",
      "  - SUCCESS: Your repr method is correctly implemented. Well done!\n",
      "  - SUCCESS: Your length method is correct.\n",
      "  - SUCCESS: Your midpoint calculation (x) is correct.\n",
      "  - SUCCESS: Your midpoint calculation (y) is correct.\n",
      "  - ERROR: Your intersection calculation seems to be wrong.\n"
     ]
    }
   ],
   "source": [
    "with pybryt.check(pybryt_reference(5, 2)):\n",
    "    l1 = LineSegment(Point(0, 0), Point(1, 1))\n",
    "    l2 = LineSegment(Point(0, 1), Point(1, 0))\n",
    "\n",
    "    repr(l1)\n",
    "    l1.length()\n",
    "    l2.midpoint().x\n",
    "    l2.midpoint().y\n",
    "    l1.intersects(l2)"
   ]
  },
  {
   "cell_type": "markdown",
   "metadata": {},
   "source": [
    "### The Triangle class Implementation\n",
    "\n",
    "Finally, we need to implement a `Triangle` class. We'll choose to use an initialisation method that takes three `Point` objects as arguments, and stores them as attributes of the object. We'll also want methods to calculate the area and perimeter of the triangle."
   ]
  },
  {
   "cell_type": "code",
   "execution_count": 88,
   "metadata": {},
   "outputs": [],
   "source": [
    "import math\n",
    "\n",
    "class Triangle:\n",
    "    def __init__(self, a: Point, b: Point, c: Point):\n",
    "        # Write appropriate code here, accepting three Points as arguments,\n",
    "        # representing the three vertices of the triangle.\n",
    "        self.a = a\n",
    "        self.b = b\n",
    "        self.c = c\n",
    "\n",
    "    def area(self) -> float:\n",
    "        # Write appropriate code here, returning the area of the triangle.\n",
    "        # You can use the formula from lecture 4, or any other method you prefer\n",
    "        abx, aby = self.b.x - self.a.x, self.b.y - self.a.y\n",
    "        acx, acy = self.c.x - self.a.x, self.c.y - self.a.y\n",
    "        return 0.5 * abs(abx*acy - aby*acx)\n",
    "\n",
    "    def perimeter(self) -> float:\n",
    "        # Write appropriate code here, returning the perimeter of the triangle\n",
    "        res = 0\n",
    "        edges = self.edges()\n",
    "        for i in range(len(edges)):\n",
    "            res += edges[i].length()\n",
    "        return res\n",
    "\n",
    "    def edges(self):\n",
    "        AB = LineSegment(self.a, self.b)\n",
    "        BC = LineSegment(self.b, self.c)\n",
    "        CA = LineSegment(self.c, self.a)\n",
    "        return (AB, BC, CA)\n",
    "\n",
    "    def angles(self):\n",
    "        def angle_at(center: Point, p1: Point, p2: Point) -> float:\n",
    "            # vectors from 'center' to the other two vertices\n",
    "            ux, uy = p1.x - center.x, p1.y - center.y\n",
    "            vx, vy = p2.x - center.x, p2.y - center.y\n",
    "            # dot(u,v) and lengths\n",
    "            dot = ux*vx + uy*vy\n",
    "            nu  = math.hypot(ux, uy)\n",
    "            nv  = math.hypot(vx, vy)\n",
    "            # cosθ = (u·v)/(|u||v|), clamp for FP safety, then θ = arccos(cosθ)\n",
    "            cos_theta = dot / (nu*nv)\n",
    "            cos_theta = max(-1.0, min(1.0, cos_theta))\n",
    "            return math.acos(cos_theta)\n",
    "\n",
    "        A = angle_at(self.a, self.b, self.c)  # angle at vertex a\n",
    "        B = angle_at(self.b, self.c, self.a)  # angle at vertex b\n",
    "        C = angle_at(self.c, self.a, self.b)  # angle at vertex c\n",
    "\n",
    "        return(B, A, C)\n",
    "\n",
    "    def contains_point(self, p: Point) -> bool:\n",
    "\n",
    "        def edge_normal(x1, y1, x2, y2):\n",
    "            # edge vector e = (dx, dy) = (x2-x1, y2-y1)\n",
    "            dx, dy = x2 - x1, y2 - y1\n",
    "            n = -dy, dx\n",
    "            return n\n",
    "\n",
    "        def dot(ax, ay, bx, by):\n",
    "            return ax*bx + ay*by\n",
    "\n",
    "        # Prepare the three edges as (x1, y1, x2, y2)\n",
    "        edges = [\n",
    "            (self.a.x, self.a.y, self.b.x, self.b.y),\n",
    "            (self.b.x, self.b.y, self.c.x, self.c.y),\n",
    "            (self.c.x, self.c.y, self.a.x, self.a.y),\n",
    "        ]\n",
    "\n",
    "        dots = []\n",
    "        for x1, y1, x2, y2 in edges:\n",
    "            nx, ny = edge_normal(x1, y1, x2, y2)           # normal to the edge\n",
    "            vx, vy = p.x - x1, p.y - y1                    # vector from edge start to point\n",
    "            dots.append(dot(nx, ny, vx, vy))               # n · v\n",
    "\n",
    "        # Interpret the signs:\n",
    "        # - If any dot < 0 and any dot > 0 => point is outside\n",
    "        # - If all dots ≥ 0 (allowing ~0), point is inside or on an edge\n",
    "        # - If all dots ≤ 0 (allowing ~0), also inside/on edge (opposite orientation)\n",
    "        pos = any(d >  0 for d in dots)\n",
    "        neg = any(d < 0 for d in dots)\n",
    "\n",
    "        if pos and neg:\n",
    "            return False          # lies on different sides of different edges → outside\n",
    "\n",
    "        # If we’re here, all dots are non-negative or all non-positive (within eps).\n",
    "        # On-edge case (any ~0) is considered inside per the spec.\n",
    "        return True"
   ]
  },
  {
   "cell_type": "code",
   "execution_count": 89,
   "metadata": {
    "tags": [
     "nbgrader"
    ]
   },
   "outputs": [],
   "source": [
    "p1 = Point(0, 0)\n",
    "p2 = Point(1, 0)\n",
    "p3 = Point(0, 1)\n",
    "\n",
    "t = Triangle(p1, p2, p3)\n",
    "\n",
    "assert isclose(t.area(), 0.5), \"Check your area calculation\"\n",
    "assert isclose(t.perimeter(), 1 + 1 + math.sqrt(2)), \"Check your perimeter calculation\"\n",
    "# assert isclose(t.edges()[0], 1)\n",
    "# assert isclose(t.edges()[1], math.sqrt(2))\n",
    "# assert isclose(t.edges()[2], 1)\n",
    "# assert isclose(t.angles()[0], math.pi / 4)\n",
    "# assert isclose(t.angles()[1], math.pi / 2)\n",
    "# assert isclose(t.angles()[2], math.pi / 4)\n",
    "# assert not t.contains_point(Point(1, 1))"
   ]
  },
  {
   "cell_type": "markdown",
   "metadata": {},
   "source": [
    "### Extending the Triangle Class\n",
    "\n",
    "- add a new method to the `Triangle` class, `edges()`, that returns a `tuple` containing the three `LineSegment`s which form the edges of the `Triangle`. \n",
    "The edges should be ordered so that the first vertex of the first edge is the first vertex of the triangle, and the second vertex of the first edge is the second vertex of the triangle, as well as being the first vertex of the second edge, and so on.\n",
    "- add a method to the `Triangle` class called  `angles()`. It should return a tuple of three floats, each representing the interior angle _in radians_ of the vertices of the triangle, ordered so that the first angle is at the first vertex of the triangle, and so on.\n",
    "- (more challenging) add a method to the `Triangle` class called `contains_point` that takes a `Point` object as an argument, and returns `True` if the point is inside (or on an edge of) the triangle, and `False` otherwise. You can use the following algorithm to solve this problem:\n",
    "  - For each edge of the triangle, calculate the normal vector to the edge.   you can do this by calculating\n",
    "    $$\\mathbf{n} = \\begin{pmatrix} y_2 - y_1 \\\\ x_1 - x_2 \\end{pmatrix},$$\n",
    "    where $(x_1, y_1)$ and $(x_2, y_2)$ are the coordinates of the two vertices of the edge.\n",
    "  - Calculate the vector from one of the vertices of the edge to the point.\n",
    "  - If the dot product of these two vectors is positive for all edges, then the point is inside the triangle. If the dot product is negative for any edge, then the point is outside the triangle. If the dot product is zero for an edge, (and positive for the others) then the point is on the edge of the triangle.\n",
    "  \n",
    "  You can use additional packages such as  `numpy`if you like, but it is not necessary.\n"
   ]
  },
  {
   "cell_type": "code",
   "execution_count": 90,
   "metadata": {
    "tags": [
     "nbgrader"
    ]
   },
   "outputs": [],
   "source": [
    "p1 = Point(0, 0)\n",
    "p2 = Point(1, 0)\n",
    "p3 = Point(0, 1)\n",
    "\n",
    "t = Triangle(p1, p2, p3)\n",
    "\n",
    "assert isclose(t.edges()[0], 1)\n",
    "assert isclose(t.edges()[1], math.sqrt(2))\n",
    "assert isclose(t.edges()[2], 1)\n",
    "assert isclose(t.angles()[0], math.pi / 4)\n",
    "assert isclose(t.angles()[1], math.pi / 2)\n",
    "assert isclose(t.angles()[2], math.pi / 4)\n",
    "assert not t.contains_point(Point(1, 1))"
   ]
  },
  {
   "cell_type": "markdown",
   "metadata": {},
   "source": [
    "### Extending the shape design via inheritance (optional)\n",
    "\n",
    "- We can also extend functionality to allow for more shapes, such as squares, hexagons and so on. The \"best\" way to do this in Python is to define a new \"abstract\" class called `Polygon` that implements reusable methods for generic shapes (where possible) in terms of the Points or edges of the polygon, and then define a new class for each shape that inherits from `Polygon` as a base class and which implements the methods that are specific to that shape (for example the `area` method for a triangle is different to the `area` method for a square).\n",
    "\n",
    "By defining `Polygon` as "
   ]
  },
  {
   "cell_type": "code",
   "execution_count": 91,
   "metadata": {},
   "outputs": [],
   "source": [
    "from abc import ABC, abstractmethod\n",
    "\n",
    "\n",
    "class Polygon(ABC):\n",
    "    def __init__(self, vertices):\n",
    "        # Write appropriate code here, accepting a collection\n",
    "        # of Points as arguments, a representing a vertex of the polygon.\n",
    "        verts = tuple(vertices)\n",
    "        self._vertices= verts\n",
    "\n",
    "    def perimeter(self):\n",
    "        # Write appropriate code here, returning the perimeter of the polygon\n",
    "        # based on the stored vertices.\n",
    "        return sum(e.length() for e in self.edges())\n",
    "\n",
    "    def vertices(self):\n",
    "        return self._vertices\n",
    "\n",
    "    def edges(self):\n",
    "        # Write appropriate code here, returning a tuple of LineSegments\n",
    "        # representing the edges of the polygon\n",
    "        n = len(self.vertices())\n",
    "        return(\n",
    "            LineSegment(self._vertices[i], self._vertices[(i + 1) % n])\n",
    "            for i in range(n)\n",
    "        )\n",
    "\n",
    "    @abstractmethod\n",
    "    def area(self):\n",
    "        # Write appropriate code here, returning the area of the polygon\n",
    "        raise NotImplementedError"
   ]
  },
  {
   "cell_type": "code",
   "execution_count": 92,
   "metadata": {},
   "outputs": [],
   "source": [
    "class Quadrilateral(Polygon):\n",
    "    def __init__(self, a, b, c, d):\n",
    "        # Here, super() will call the __init__ method of the parent class -\n",
    "        # Polygon.__init__().\n",
    "        super().__init__(a, b, c, d)\n",
    "\n",
    "    def area(self):\n",
    "        # Write appropriate code here, returning the area of the quadrilateral.\n",
    "        A, B, C, D = self.vertices\n",
    "        return Triangle(A, B, C).area() + Triangle(A, C, D).area()"
   ]
  },
  {
   "cell_type": "markdown",
   "metadata": {},
   "source": [
    "## Example 3: Designing your own class\n",
    "\n",
    "### Problem Statement\n",
    "\n",
    "The final problem is always the most challenging: designing your own class from scratch. We'll give you a problem statement, and you'll need to design a class to solve it. The problem statement is as follows:\n",
    "\n",
    "Build a class to represent the data provided from a [weather station](https://en.wikipedia.org/wiki/Weather_station). The station has the following fixed data attached to it:\n",
    "- A name (a string)\n",
    "- A location (a tuple of two floats, representing the latitude and longitude)\n",
    "- A height above sea level (a float, representing the height in meters)\n",
    "\n",
    "The station also has (at a minimum) the following data that change over time:\n",
    "\n",
    "- A temperature (a float, representing the temperature in degrees Celsius)\n",
    "- A humidity (a float, representing the humidity as a percentage)\n",
    "- The pressure (a float, representing the pressure in hPa)\n",
    "\n",
    "The class should have methods to do the following:\n",
    "\n",
    "- An initialisation method (`__init__`) that takes the name, location, and height above sea level as arguments, and stores them, as well as doing some initialisation of the temperature, humidity and pressure (plus other variables if you've added them).\n",
    "- A method to update the temperature, humidity, and pressure.\n",
    "- Appropriately implemented `__str__` and `__repr__` methods.\n",
    "- Methods to calculate appropriate \"weather\" metrics, such as the [dew point](https://en.wikipedia.org/wiki/Dew_point) (it's ok to use the simplified formula), the [heat index](https://en.wikipedia.org/wiki/Heat_index), and so on, and to convert between different temperature scales (e.g. Celsius, Fahrenheit, Kelvin). You may want to make use of the `@property` decorator to make these methods feel like attributes to the user."
   ]
  },
  {
   "cell_type": "code",
   "execution_count": 93,
   "metadata": {},
   "outputs": [],
   "source": [
    "# Write your class here. As with previous examples, you may\n",
    "# want to test aspects of your class as you go along\n",
    "\n",
    "class Station():\n",
    "    def __init__(self, name, location, height, temperature= 0, temperature_unit=\"C\", humidity= 0, pressure= 0):\n",
    "        self.name = name\n",
    "        self.location = location\n",
    "        self.height = height\n",
    "        self.temperature = temperature\n",
    "        self.temperature_unit = temperature_unit\n",
    "        self.humidity = humidity\n",
    "        self.pressure = pressure\n",
    "\n",
    "    def update_temperature(self, temperature):\n",
    "        self.temperature = temperature\n",
    "\n",
    "    def update_humidity(self, humidity):\n",
    "        self.humidity = humidity\n",
    "\n",
    "    def update_pressure(self, pressure):\n",
    "        self.pressure = pressure\n",
    "\n",
    "    def temp_to_Kelvin(self):\n",
    "        if self.temperature_unit == \"C\":\n",
    "            self.temperature = self.temperature + 273.15\n",
    "            self.temperature_unit = \"K\"\n",
    "        elif self.temperature_unit == \"F\":\n",
    "            self.temperature = (self.temperature - 32) * (5/9) + 273.15\n",
    "            self.temperature_unit = \"K\"\n",
    "    \n",
    "    def temp_to_Celcius(self):\n",
    "        if self.temperature_unit == \"K\":\n",
    "            self.temperature = self.temperature - 273.15\n",
    "            self.temperature_unit = \"C\"\n",
    "        elif self.temperature_unit == \"F\":\n",
    "            self.temperature = (self.temperature - 32) * (5/9)\n",
    "            self.temperature_unit = \"C\"\n",
    "\n",
    "    def temp_to_Fahrenheit(self):\n",
    "        if self.temperature_unit == \"K\":\n",
    "            self.temperature = (self.temperature - 273.15) * (9/5) + 32\n",
    "            self.temperature_unit = \"F\"\n",
    "        elif self.temperature_unit == \"C\":\n",
    "            self.temperature = (self.temperature * (9/5)) + 32\n",
    "            self.temperature_unit = \"F\"\n",
    "    \n",
    "    def __repr__(self):\n",
    "        return f\"Station({self.name}, {self.location}, {self.height}, {self.temperature}, {self.humidity}, {self.pressure})\"\n",
    "\n",
    "    def __str__(self):\n",
    "        return f\"Station {self.name} at {self.height} located in {self.location[0]} and {self.location[1]}, temperature: {self.temperature} {self.temperature_unit}, pressure: {self.pressure}, humidity: {self.humidity}\""
   ]
  },
  {
   "cell_type": "code",
   "execution_count": 94,
   "metadata": {},
   "outputs": [
    {
     "name": "stdout",
     "output_type": "stream",
     "text": [
      "Station Hedwig at 200 located in 0.25 and 0.44, temperature: 0 C, pressure: 0, humidity: 0\n",
      "Station Hedwig at 200 located in 0.25 and 0.44, temperature: 100 C, pressure: 0, humidity: 0\n",
      "Station Hedwig at 200 located in 0.25 and 0.44, temperature: 373.15 K, pressure: 0, humidity: 0\n"
     ]
    }
   ],
   "source": [
    "station_1 = Station(\"Hedwig\", (0.25, 0.44), 200)\n",
    "\n",
    "print(station_1)\n",
    "station_1.update_temperature(100)\n",
    "print(station_1)\n",
    "station_1.temp_to_Kelvin()\n",
    "print(station_1)"
   ]
  }
 ],
 "metadata": {
  "kernelspec": {
   "display_name": "Python 3 (ipykernel)",
   "language": "python",
   "name": "python3"
  },
  "language_info": {
   "codemirror_mode": {
    "name": "ipython",
    "version": 3
   },
   "file_extension": ".py",
   "mimetype": "text/x-python",
   "name": "python",
   "nbconvert_exporter": "python",
   "pygments_lexer": "ipython3",
   "version": "3.11.13"
  }
 },
 "nbformat": 4,
 "nbformat_minor": 4
}
